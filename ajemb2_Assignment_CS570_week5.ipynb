{
 "cells": [
  {
   "cell_type": "code",
   "execution_count": 1,
   "metadata": {
    "collapsed": false
   },
   "outputs": [
    {
     "name": "stderr",
     "output_type": "stream",
     "text": [
      "C:\\Users\\Alemayehu\\Anaconda2\\lib\\site-packages\\sklearn\\cross_validation.py:44: DeprecationWarning: This module was deprecated in version 0.18 in favor of the model_selection module into which all the refactored classes and functions are moved. Also note that the interface of the new CV iterators are different from that of this module. This module will be removed in 0.20.\n",
      "  \"This module will be removed in 0.20.\", DeprecationWarning)\n"
     ]
    }
   ],
   "source": [
    "from sklearn import datasets\n",
    "import pandas as pd\n",
    "from sklearn.preprocessing import StandardScaler\n",
    "from sklearn.cross_validation import train_test_split\n",
    "from sklearn.metrics import mean_squared_error\n",
    "from sklearn.metrics import r2_score\n",
    "from sklearn.linear_model import LinearRegression"
   ]
  },
  {
   "cell_type": "code",
   "execution_count": 2,
   "metadata": {
    "collapsed": false
   },
   "outputs": [
    {
     "name": "stdout",
     "output_type": "stream",
     "text": [
      "Boston House Prices dataset\n",
      "===========================\n",
      "\n",
      "Notes\n",
      "------\n",
      "Data Set Characteristics:  \n",
      "\n",
      "    :Number of Instances: 506 \n",
      "\n",
      "    :Number of Attributes: 13 numeric/categorical predictive\n",
      "    \n",
      "    :Median Value (attribute 14) is usually the target\n",
      "\n",
      "    :Attribute Information (in order):\n",
      "        - CRIM     per capita crime rate by town\n",
      "        - ZN       proportion of residential land zoned for lots over 25,000 sq.ft.\n",
      "        - INDUS    proportion of non-retail business acres per town\n",
      "        - CHAS     Charles River dummy variable (= 1 if tract bounds river; 0 otherwise)\n",
      "        - NOX      nitric oxides concentration (parts per 10 million)\n",
      "        - RM       average number of rooms per dwelling\n",
      "        - AGE      proportion of owner-occupied units built prior to 1940\n",
      "        - DIS      weighted distances to five Boston employment centres\n",
      "        - RAD      index of accessibility to radial highways\n",
      "        - TAX      full-value property-tax rate per $10,000\n",
      "        - PTRATIO  pupil-teacher ratio by town\n",
      "        - B        1000(Bk - 0.63)^2 where Bk is the proportion of blacks by town\n",
      "        - LSTAT    % lower status of the population\n",
      "        - MEDV     Median value of owner-occupied homes in $1000's\n",
      "\n",
      "    :Missing Attribute Values: None\n",
      "\n",
      "    :Creator: Harrison, D. and Rubinfeld, D.L.\n",
      "\n",
      "This is a copy of UCI ML housing dataset.\n",
      "http://archive.ics.uci.edu/ml/datasets/Housing\n",
      "\n",
      "\n",
      "This dataset was taken from the StatLib library which is maintained at Carnegie Mellon University.\n",
      "\n",
      "The Boston house-price data of Harrison, D. and Rubinfeld, D.L. 'Hedonic\n",
      "prices and the demand for clean air', J. Environ. Economics & Management,\n",
      "vol.5, 81-102, 1978.   Used in Belsley, Kuh & Welsch, 'Regression diagnostics\n",
      "...', Wiley, 1980.   N.B. Various transformations are used in the table on\n",
      "pages 244-261 of the latter.\n",
      "\n",
      "The Boston house-price data has been used in many machine learning papers that address regression\n",
      "problems.   \n",
      "     \n",
      "**References**\n",
      "\n",
      "   - Belsley, Kuh & Welsch, 'Regression diagnostics: Identifying Influential Data and Sources of Collinearity', Wiley, 1980. 244-261.\n",
      "   - Quinlan,R. (1993). Combining Instance-Based and Model-Based Learning. In Proceedings on the Tenth International Conference of Machine Learning, 236-243, University of Massachusetts, Amherst. Morgan Kaufmann.\n",
      "   - many more! (see http://archive.ics.uci.edu/ml/datasets/Housing)\n",
      "\n"
     ]
    }
   ],
   "source": [
    "bean = datasets.load_boston()\n",
    "print(bean.DESCR)"
   ]
  },
  {
   "cell_type": "code",
   "execution_count": 3,
   "metadata": {
    "collapsed": true
   },
   "outputs": [],
   "source": [
    "def load_boston():\n",
    "    scaler = StandardScaler()\n",
    "    boston = datasets.load_boston()\n",
    "    X=boston.data\n",
    "    y=boston.target\n",
    "    X = scaler.fit_transform(X)\n",
    "    return train_test_split(X,y)"
   ]
  },
  {
   "cell_type": "code",
   "execution_count": 4,
   "metadata": {
    "collapsed": true
   },
   "outputs": [],
   "source": [
    "X_train, X_test, y_train, y_test = load_boston()"
   ]
  },
  {
   "cell_type": "code",
   "execution_count": 5,
   "metadata": {
    "collapsed": false
   },
   "outputs": [
    {
     "data": {
      "text/plain": [
       "(379, 13)"
      ]
     },
     "execution_count": 5,
     "metadata": {},
     "output_type": "execute_result"
    }
   ],
   "source": [
    "X_train.shape"
   ]
  },
  {
   "cell_type": "code",
   "execution_count": 6,
   "metadata": {
    "collapsed": false
   },
   "outputs": [
    {
     "data": {
      "text/plain": [
       "LinearRegression(copy_X=True, fit_intercept=True, n_jobs=1, normalize=False)"
      ]
     },
     "execution_count": 6,
     "metadata": {},
     "output_type": "execute_result"
    }
   ],
   "source": [
    "\n",
    "clf = LinearRegression()\n",
    "clf.fit(X_train, y_train)"
   ]
  },
  {
   "cell_type": "code",
   "execution_count": 7,
   "metadata": {
    "collapsed": false
   },
   "outputs": [
    {
     "data": {
      "text/plain": [
       "[(17.800000000000001, 17.334046475610823),\n",
       " (30.100000000000001, 25.658688427932702),\n",
       " (34.700000000000003, 30.149383284559331),\n",
       " (26.5, 25.341276128263917),\n",
       " (36.399999999999999, 32.84452563082796),\n",
       " (21.699999999999999, 20.475332312949231),\n",
       " (20.100000000000001, 23.564201295492538),\n",
       " (26.199999999999999, 24.326199055564445),\n",
       " (30.100000000000001, 29.023169115046397),\n",
       " (12.6, 18.053202073713894),\n",
       " (16.699999999999999, 19.478724678224186),\n",
       " (39.799999999999997, 34.023382479162812),\n",
       " (13.0, 17.401952971712518),\n",
       " (17.800000000000001, 20.297380481858156),\n",
       " (13.4, 13.576240146284924),\n",
       " (23.100000000000001, 9.9197380497400971),\n",
       " (20.699999999999999, 26.033946508358746),\n",
       " (33.100000000000001, 35.30041842869776),\n",
       " (11.699999999999999, 15.722052619628752),\n",
       " (24.300000000000001, 23.81048703954249),\n",
       " (14.300000000000001, 14.194298967665883),\n",
       " (19.5, 19.565896209526844),\n",
       " (50.0, 24.714208682260516),\n",
       " (24.399999999999999, 24.070201600650993),\n",
       " (20.300000000000001, 19.657964716217013),\n",
       " (18.5, 13.666028215633546),\n",
       " (11.5, 14.129664239836531),\n",
       " (13.4, 16.679947407105061),\n",
       " (7.4000000000000004, 5.5828304514643534),\n",
       " (19.5, 16.980774725150688),\n",
       " (32.0, 33.361924719607899),\n",
       " (19.800000000000001, 17.993089869747237),\n",
       " (31.0, 33.262489841651153),\n",
       " (5.0, 6.2503192336502416),\n",
       " (10.199999999999999, 16.386002547288204),\n",
       " (13.300000000000001, 16.717330834799245),\n",
       " (10.5, 12.460066111526526),\n",
       " (28.399999999999999, 30.101024647499678),\n",
       " (26.399999999999999, 21.629248752219574),\n",
       " (14.1, 17.568888564995298),\n",
       " (16.600000000000001, 15.137987625611919),\n",
       " (16.800000000000001, 20.739968492568579),\n",
       " (21.199999999999999, 21.551330155776874),\n",
       " (22.5, 29.026725135493994),\n",
       " (37.899999999999999, 32.859994012401202),\n",
       " (21.199999999999999, 20.814868888870514),\n",
       " (13.5, 12.812823602910049),\n",
       " (36.200000000000003, 26.692762563105333),\n",
       " (30.699999999999999, 30.123360449902059),\n",
       " (5.5999999999999996, 11.87358465793174),\n",
       " (23.5, 30.271856414333989),\n",
       " (36.200000000000003, 27.519149659372488),\n",
       " (32.899999999999999, 31.029930282832638),\n",
       " (23.800000000000001, 25.89551907762813),\n",
       " (24.100000000000001, 25.634473726532875),\n",
       " (48.799999999999997, 39.94408998511404),\n",
       " (22.0, 26.557755829161742),\n",
       " (12.699999999999999, 11.351220001688116),\n",
       " (20.100000000000001, 18.73833501947097),\n",
       " (23.100000000000001, 25.59247639772056),\n",
       " (27.899999999999999, 31.755049687281485),\n",
       " (33.200000000000003, 36.216228011970486),\n",
       " (23.199999999999999, 26.994580320352291),\n",
       " (14.6, 19.442082476938136),\n",
       " (17.800000000000001, 8.9571618771913819),\n",
       " (19.5, 19.838288476007556),\n",
       " (22.300000000000001, 27.178738734573979),\n",
       " (22.899999999999999, 24.761631488470353),\n",
       " (50.0, 42.456357224934393),\n",
       " (46.700000000000003, 35.096205873586065),\n",
       " (25.0, 24.714522260501788),\n",
       " (19.800000000000001, 22.380790083148746),\n",
       " (28.399999999999999, 27.939409840048924),\n",
       " (8.3000000000000007, 12.516624195189621),\n",
       " (13.300000000000001, 20.590849686693034),\n",
       " (13.800000000000001, 0.81726257075467146),\n",
       " (15.4, 18.123783392374357),\n",
       " (25.0, 22.377986331217446),\n",
       " (18.600000000000001, 17.281573837464986),\n",
       " (22.800000000000001, 26.2102951796018),\n",
       " (12.300000000000001, 13.15746307926293),\n",
       " (7.0, -4.8304493237543333),\n",
       " (36.5, 34.481368224798146),\n",
       " (22.0, 21.083149957360792),\n",
       " (19.699999999999999, 13.693181280526197),\n",
       " (22.600000000000001, 22.375566198865457),\n",
       " (18.899999999999999, 23.097637908048721),\n",
       " (14.6, 7.7218580210810597),\n",
       " (14.199999999999999, 18.007492808150523),\n",
       " (18.300000000000001, 20.051458736294617),\n",
       " (13.800000000000001, 11.459098458973587),\n",
       " (50.0, 35.199485399700663),\n",
       " (16.300000000000001, 11.352482545457896),\n",
       " (23.199999999999999, 22.965333082412606),\n",
       " (7.2000000000000002, 8.1492068280213363),\n",
       " (50.0, 40.615432597899371),\n",
       " (26.600000000000001, 22.404500452872078),\n",
       " (9.5, 13.355420199769755),\n",
       " (19.199999999999999, 20.20014053413459),\n",
       " (50.0, 42.281842678365791),\n",
       " (24.699999999999999, 22.372379497395553),\n",
       " (19.300000000000001, 20.368960659115739),\n",
       " (37.299999999999997, 34.423236568249692),\n",
       " (14.1, 19.180690237759748),\n",
       " (23.0, 23.345388146448602),\n",
       " (23.0, 20.154742087790495),\n",
       " (20.300000000000001, 22.913493807465247),\n",
       " (23.300000000000001, 26.857723970036169),\n",
       " (17.300000000000001, 16.574131452659216),\n",
       " (18.899999999999999, 21.161675905152219),\n",
       " (15.0, 13.995098996165504),\n",
       " (13.1, 20.403774046824697),\n",
       " (35.399999999999999, 33.692047316516501),\n",
       " (18.699999999999999, 20.769608474462892),\n",
       " (23.199999999999999, 17.476920209195288),\n",
       " (20.399999999999999, 19.084413491047833),\n",
       " (36.100000000000001, 32.756661773891601),\n",
       " (13.800000000000001, 16.535197823909282),\n",
       " (16.800000000000001, 20.016202382538197),\n",
       " (12.699999999999999, 12.757422329009191),\n",
       " (27.5, 13.125289645726893),\n",
       " (6.2999999999999998, 11.32409639444163),\n",
       " (32.700000000000003, 30.083515605211474),\n",
       " (28.0, 28.224661705135262),\n",
       " (20.100000000000001, 20.447788781878618),\n",
       " (15.1, 17.127062937678595),\n",
       " (31.199999999999999, 28.483007630207901)]"
      ]
     },
     "execution_count": 7,
     "metadata": {},
     "output_type": "execute_result"
    }
   ],
   "source": [
    "list(zip (y_test, clf.predict(X_test)))"
   ]
  },
  {
   "cell_type": "code",
   "execution_count": 13,
   "metadata": {
    "collapsed": false
   },
   "outputs": [],
   "source": [
    "r21 = r2_score(y_test, clf.predict(X_test)) "
   ]
  },
  {
   "cell_type": "code",
   "execution_count": 14,
   "metadata": {
    "collapsed": false
   },
   "outputs": [],
   "source": [
    "mn1 = mean_squared_error(y_test, clf.predict(X_test))"
   ]
  },
  {
   "cell_type": "code",
   "execution_count": 18,
   "metadata": {
    "collapsed": false
   },
   "outputs": [
    {
     "data": {
      "text/plain": [
       "[0.73459474571578265, 26.940013568557806]"
      ]
     },
     "execution_count": 18,
     "metadata": {},
     "output_type": "execute_result"
    }
   ],
   "source": [
    "list((r21 ,mn1))"
   ]
  },
  {
   "cell_type": "code",
   "execution_count": 20,
   "metadata": {
    "collapsed": false
   },
   "outputs": [],
   "source": [
    "from sklearn import linear_model"
   ]
  },
  {
   "cell_type": "code",
   "execution_count": 89,
   "metadata": {
    "collapsed": true
   },
   "outputs": [],
   "source": [
    "clfLS = linear_model.Lasso(alpha=0.1)"
   ]
  },
  {
   "cell_type": "code",
   "execution_count": 23,
   "metadata": {
    "collapsed": false
   },
   "outputs": [
    {
     "data": {
      "text/plain": [
       "(127,)"
      ]
     },
     "execution_count": 23,
     "metadata": {},
     "output_type": "execute_result"
    }
   ],
   "source": [
    "y_test.shape"
   ]
  },
  {
   "cell_type": "code",
   "execution_count": 25,
   "metadata": {
    "collapsed": false
   },
   "outputs": [
    {
     "data": {
      "text/plain": [
       "(127, 13)"
      ]
     },
     "execution_count": 25,
     "metadata": {},
     "output_type": "execute_result"
    }
   ],
   "source": [
    "X_test.shape"
   ]
  },
  {
   "cell_type": "code",
   "execution_count": 90,
   "metadata": {
    "collapsed": false
   },
   "outputs": [
    {
     "data": {
      "text/plain": [
       "Lasso(alpha=0.1, copy_X=True, fit_intercept=True, max_iter=1000,\n",
       "   normalize=False, positive=False, precompute=False, random_state=None,\n",
       "   selection='cyclic', tol=0.0001, warm_start=False)"
      ]
     },
     "execution_count": 90,
     "metadata": {},
     "output_type": "execute_result"
    }
   ],
   "source": [
    "clfLS.fit(X_train,y_train)"
   ]
  },
  {
   "cell_type": "code",
   "execution_count": 91,
   "metadata": {
    "collapsed": false
   },
   "outputs": [
    {
     "name": "stdout",
     "output_type": "stream",
     "text": [
      "[-0.84794939  0.76155608 -0.          0.85885331 -1.78098849  3.01786841\n",
      " -0.         -2.25546501  1.16176325 -0.43799713 -1.78826563  0.7719711\n",
      " -3.42652713]\n"
     ]
    }
   ],
   "source": [
    "print(clfLS.coef_)"
   ]
  },
  {
   "cell_type": "code",
   "execution_count": 40,
   "metadata": {
    "collapsed": false
   },
   "outputs": [
    {
     "name": "stdout",
     "output_type": "stream",
     "text": [
      "22.3363742692\n"
     ]
    }
   ],
   "source": [
    "print(clfLS.intercept_)"
   ]
  },
  {
   "cell_type": "code",
   "execution_count": 42,
   "metadata": {
    "collapsed": false
   },
   "outputs": [
    {
     "data": {
      "text/plain": [
       "array([ 20.22019733,  14.23178364,  24.54804179,  25.04357848,\n",
       "        15.18481916,  35.25117417,  17.67046839,  20.89157719,\n",
       "        25.56206913,  22.48935856,  24.0124221 ,  36.97678147,\n",
       "        24.61130069,  25.70657542,  17.36744933,  24.72501265,\n",
       "        21.3585873 ,  16.67379625,  24.20106475,   6.85647533,\n",
       "        30.08842716,  30.91841107,  16.59714997,  30.48078481,\n",
       "        21.87087648,  18.46927984,  23.05692111,  11.640559  ,\n",
       "        16.91663922,  17.24792318,  33.07419932,  18.94303416,\n",
       "        19.682926  ,  24.03409454,  17.26882821,  19.3982878 ,\n",
       "         6.08543965,  23.27514058,  11.15946078,  17.97192801,\n",
       "        16.05513751,  32.67372488,  19.98850816,  26.45402381,\n",
       "        37.13880333,  19.83940214,  33.29883779,  19.34591467,\n",
       "        16.25741791,  21.82688859,  33.05613427,  17.80774829,\n",
       "        18.39852983,  29.15800084,  19.51887668,  17.79432146,\n",
       "        24.65107212,  28.03307597,  19.80746607,  20.76143691,\n",
       "        25.2188626 ,  23.66079788,  32.32451858,  31.78117688,\n",
       "        22.23530625,  17.11645876,  22.01203555,  20.09954322,\n",
       "         9.69388324,  24.23517876,  24.74480091,  28.2179435 ,\n",
       "        22.38888388,  19.44246541,  23.63550694,  24.35929949,\n",
       "         6.83080184,  17.06361304,  22.44074152,  20.49834055,\n",
       "        24.03697044,  25.57051172,  24.49019095,  15.29086719,\n",
       "        40.04050868,   9.41041061,  27.25776045,  26.07086297,\n",
       "        18.79025397,  20.0757886 ,  20.90646454,  28.25883694,\n",
       "        25.32694733,  21.31889964,  27.92889076,  24.70434951,\n",
       "        14.21906906,  23.4764033 ,  23.56698192,  12.99851455,\n",
       "        25.16067175,  18.57060977,  14.92964514,  19.05168918,\n",
       "        22.27744239,  43.88657958,  31.30467873,  20.2387547 ,\n",
       "        11.97559823,  33.55676956,  24.33998597,  22.95031871,\n",
       "        10.18368667,  27.07332116,  23.78784783,  25.21657605,\n",
       "        25.59287714,  14.48743563,  21.1172982 ,  18.56893537,\n",
       "        27.84325508,  35.6246344 ,  27.58484891,  16.85577761,\n",
       "        15.8415179 ,  21.17426728,  27.77286348,  17.20622246,\n",
       "        14.55431473,   5.56992427,  32.79927629,  23.15049019,\n",
       "        27.45585083,  12.97807374,  37.45539623,  41.24800046,\n",
       "        24.61945248,  20.63832473,  36.05452929,  38.70602067,\n",
       "        21.48771077,  20.54823948,  21.46740919,  14.40352369,\n",
       "        22.82491667,  22.62078987,   9.43282743,  26.85372469,\n",
       "        20.27928475,  22.41129214,  17.41797347,  34.34724824,\n",
       "        22.02873422,  15.63733558,  22.70766067,  25.56246142,\n",
       "        21.38259543,  30.26632428,  19.02637967,  19.19958842,\n",
       "         4.74800466,  27.22168354,  18.70260208,  27.90058211,\n",
       "        36.20906536,  27.47525588,  29.23205708,  19.625884  ,\n",
       "        31.26110958,  24.88376195,  30.94327239,  12.71136713,\n",
       "        23.37295917,  39.80424286,  31.38094105,   8.30224775,\n",
       "        30.6758975 ,  18.04139394,  10.2848776 ,  19.31920678,\n",
       "         6.75134853,  11.24476644,  23.47175478,  20.01767522,\n",
       "        36.75916736,  18.38140408,  25.06407185,  24.1941258 ,\n",
       "        23.26373228,  14.4277089 ,  20.02176184,  18.28942335,\n",
       "        23.50203485,  20.25896704,  17.47550092,  20.02971722,\n",
       "        32.04103154,  14.16302662,  36.67510761,  21.23822998,\n",
       "         8.49139261,  20.37814093,  31.35579198,  15.87605521,\n",
       "        31.85512126,  32.10934482,   5.66297445,  18.13918175,\n",
       "        16.79121967,  16.53211093,  22.51454526,  27.15840956,\n",
       "        14.62036479,  18.88544357,  29.6271048 ,  23.79676632,\n",
       "        28.85233105,  35.07489137,  16.98967527,  14.0309647 ,\n",
       "        25.34026073,  18.43284444,  23.91407757,  27.13944813,\n",
       "        25.50381571,  20.40361989,  15.23476462,  20.63285252,\n",
       "        17.46100738,  34.73910945,  32.08054552,   9.32961847,\n",
       "        14.1935091 ,  18.15455554,  18.04605534,  31.72710874,\n",
       "        24.83887326,  34.34244215,  22.66640537,  18.17747202,\n",
       "        20.98262525,  17.42421314,  16.27021629,  31.58925795,\n",
       "        19.61591801,  27.25237762,  22.53086105,  19.82706785,\n",
       "        34.63820311,  17.46930028,  30.65051033,  29.82263565,\n",
       "        16.77200778,  16.80165791,  18.23973883,  16.00706573,\n",
       "        37.57709252,   2.73517473,  31.91359398,  23.5034747 ,\n",
       "        23.89424849,  21.9043517 ,  19.71393533,  17.76621467,\n",
       "        18.82422263,  19.09806276,  20.56545919,  27.25311946,\n",
       "        20.41095035,  20.6131378 ,  19.08629441,  18.86638569,\n",
       "        20.78077441,  24.6354826 ,  32.02267724,  21.56178392,\n",
       "        15.95521974,  12.84619998,   7.47611997,  20.64346366,\n",
       "        23.44948563,  27.33058656,  29.64752059,  13.57784424,\n",
       "        35.86272971,  26.14367697,  37.58229223,  24.40529798,\n",
       "        23.33849453,  27.82872928,  24.31505642,  23.00523513,\n",
       "        17.61126895,  14.96851901,  21.69944022,  23.04100069,\n",
       "        37.60779042,  39.26847278,  25.41898438,  22.582899  ,\n",
       "        32.90398485,  31.51148004,  18.24895628,  28.0147686 ,\n",
       "        20.03843523,  25.8325348 ,  15.63154864,  28.60051943,\n",
       "        25.27567922,  27.51933781,  13.71959609,  17.73037324,\n",
       "        12.09830608,  24.01711783,  24.90921098,  20.14701806,\n",
       "        15.81069047,  14.67125398,  30.44874317,  21.35964267,\n",
       "        20.57159742,  32.74369484,  27.84058089,  21.27401795,\n",
       "         6.81076354,  20.92665734,  21.99463889,  23.58955273,\n",
       "        24.90686435,  22.3870128 ,  22.2178365 ,  14.09127438,\n",
       "        30.50567736,  32.14866857,  32.51881507,  17.05969737,\n",
       "        40.86534297,  28.09974269,  32.44905234,  21.61089971,\n",
       "        21.38570412,  23.01319069,  17.72616558,  20.48103524,\n",
       "        24.51746069,  32.35917809,  21.67382517,  28.82340989,\n",
       "        14.50949385,   1.46879085,  36.30146705,  26.67329225,\n",
       "        18.13175295,  13.20109822,  17.13708324,  16.46270862,\n",
       "        17.65949692,  29.95686422,  25.87322724,  20.63596223,\n",
       "        20.32142903,  24.60927198,  28.47331598,  25.98739254,\n",
       "        10.83794049,  13.39889953,  39.51261866,  13.307874  ,\n",
       "        25.08218062,  14.54223088,  26.52638643,  19.50111453,\n",
       "        22.55295737,  20.15760768,  17.16397349,  35.4896358 ,\n",
       "        20.72875155,   5.61699469,  30.92543612])"
      ]
     },
     "execution_count": 42,
     "metadata": {},
     "output_type": "execute_result"
    }
   ],
   "source": [
    "clfLS.predict(X_train)"
   ]
  },
  {
   "cell_type": "code",
   "execution_count": 43,
   "metadata": {
    "collapsed": false
   },
   "outputs": [],
   "source": [
    "r2LS = r2_score(y_test, clfLS.predict(X_test))"
   ]
  },
  {
   "cell_type": "code",
   "execution_count": 44,
   "metadata": {
    "collapsed": true
   },
   "outputs": [],
   "source": [
    "mnLS = mean_squared_error(y_test, clfLS.predict(X_test))"
   ]
  },
  {
   "cell_type": "code",
   "execution_count": 45,
   "metadata": {
    "collapsed": false
   },
   "outputs": [
    {
     "data": {
      "text/plain": [
       "[0.73038389531813119, 27.367436782743372]"
      ]
     },
     "execution_count": 45,
     "metadata": {},
     "output_type": "execute_result"
    }
   ],
   "source": [
    "list((r2LS ,mnLS))"
   ]
  },
  {
   "cell_type": "code",
   "execution_count": 46,
   "metadata": {
    "collapsed": true
   },
   "outputs": [],
   "source": [
    "clfLS2 = linear_model.Lasso(alpha=0.8)"
   ]
  },
  {
   "cell_type": "code",
   "execution_count": 47,
   "metadata": {
    "collapsed": false
   },
   "outputs": [
    {
     "data": {
      "text/plain": [
       "Lasso(alpha=0.8, copy_X=True, fit_intercept=True, max_iter=1000,\n",
       "   normalize=False, positive=False, precompute=False, random_state=None,\n",
       "   selection='cyclic', tol=0.0001, warm_start=False)"
      ]
     },
     "execution_count": 47,
     "metadata": {},
     "output_type": "execute_result"
    }
   ],
   "source": [
    "clfLS2.fit(X_train,y_train)"
   ]
  },
  {
   "cell_type": "code",
   "execution_count": 48,
   "metadata": {
    "collapsed": true
   },
   "outputs": [],
   "source": [
    "r2LS2 = r2_score(y_test, clfLS2.predict(X_test))"
   ]
  },
  {
   "cell_type": "code",
   "execution_count": 49,
   "metadata": {
    "collapsed": true
   },
   "outputs": [],
   "source": [
    "mnLS2 = mean_squared_error(y_test, clfLS2.predict(X_test))"
   ]
  },
  {
   "cell_type": "code",
   "execution_count": 50,
   "metadata": {
    "collapsed": false
   },
   "outputs": [
    {
     "data": {
      "text/plain": [
       "[0.68405752520217744, 32.069804273061898]"
      ]
     },
     "execution_count": 50,
     "metadata": {},
     "output_type": "execute_result"
    }
   ],
   "source": [
    "list((r2LS2 ,mnLS2))"
   ]
  },
  {
   "cell_type": "code",
   "execution_count": 52,
   "metadata": {
    "collapsed": true
   },
   "outputs": [],
   "source": [
    "clfLS3 = linear_model.Lasso(alpha=0.0)"
   ]
  },
  {
   "cell_type": "code",
   "execution_count": 53,
   "metadata": {
    "collapsed": false
   },
   "outputs": [
    {
     "name": "stderr",
     "output_type": "stream",
     "text": [
      "C:\\Users\\Alemayehu\\Anaconda2\\lib\\site-packages\\ipykernel\\__main__.py:1: UserWarning: With alpha=0, this algorithm does not converge well. You are advised to use the LinearRegression estimator\n",
      "  if __name__ == '__main__':\n",
      "C:\\Users\\Alemayehu\\Anaconda2\\lib\\site-packages\\sklearn\\linear_model\\coordinate_descent.py:470: UserWarning: Coordinate descent with alpha=0 may lead to unexpected results and is discouraged.\n",
      "  positive)\n",
      "C:\\Users\\Alemayehu\\Anaconda2\\lib\\site-packages\\sklearn\\linear_model\\coordinate_descent.py:484: ConvergenceWarning: Objective did not converge. You might want to increase the number of iterations. Fitting data with very small alpha may cause precision problems.\n",
      "  ConvergenceWarning)\n"
     ]
    },
    {
     "data": {
      "text/plain": [
       "Lasso(alpha=0.0, copy_X=True, fit_intercept=True, max_iter=1000,\n",
       "   normalize=False, positive=False, precompute=False, random_state=None,\n",
       "   selection='cyclic', tol=0.0001, warm_start=False)"
      ]
     },
     "execution_count": 53,
     "metadata": {},
     "output_type": "execute_result"
    }
   ],
   "source": [
    "clfLS3.fit(X_train,y_train)"
   ]
  },
  {
   "cell_type": "code",
   "execution_count": 54,
   "metadata": {
    "collapsed": true
   },
   "outputs": [],
   "source": [
    "r2LS3 = r2_score(y_test, clfLS3.predict(X_test))"
   ]
  },
  {
   "cell_type": "code",
   "execution_count": 55,
   "metadata": {
    "collapsed": true
   },
   "outputs": [],
   "source": [
    "mnLS3 = mean_squared_error(y_test, clfLS3.predict(X_test))"
   ]
  },
  {
   "cell_type": "code",
   "execution_count": 56,
   "metadata": {
    "collapsed": false
   },
   "outputs": [
    {
     "data": {
      "text/plain": [
       "[0.73459474571578265, 26.940013568557799]"
      ]
     },
     "execution_count": 56,
     "metadata": {},
     "output_type": "execute_result"
    }
   ],
   "source": [
    "list((r2LS3 ,mnLS3))"
   ]
  },
  {
   "cell_type": "code",
   "execution_count": 76,
   "metadata": {
    "collapsed": true
   },
   "outputs": [],
   "source": [
    "clfLS4 = linear_model.Lasso(alpha=-0.5)"
   ]
  },
  {
   "cell_type": "code",
   "execution_count": 69,
   "metadata": {
    "collapsed": false
   },
   "outputs": [
    {
     "data": {
      "text/plain": [
       "Lasso(alpha=-0.5, copy_X=True, fit_intercept=True, max_iter=1000,\n",
       "   normalize=False, positive=False, precompute=False, random_state=None,\n",
       "   selection='cyclic', tol=0.0001, warm_start=False)"
      ]
     },
     "execution_count": 69,
     "metadata": {},
     "output_type": "execute_result"
    }
   ],
   "source": [
    "clfLS4.fit(X_train,y_train)"
   ]
  },
  {
   "cell_type": "code",
   "execution_count": 77,
   "metadata": {
    "collapsed": false
   },
   "outputs": [
    {
     "data": {
      "text/plain": [
       "Lasso(alpha=-0.5, copy_X=True, fit_intercept=True, max_iter=1000,\n",
       "   normalize=False, positive=False, precompute=False, random_state=None,\n",
       "   selection='cyclic', tol=0.0001, warm_start=False)"
      ]
     },
     "execution_count": 77,
     "metadata": {},
     "output_type": "execute_result"
    }
   ],
   "source": [
    "clfLS4.fit(X_train,y_train)"
   ]
  },
  {
   "cell_type": "code",
   "execution_count": 78,
   "metadata": {
    "collapsed": false
   },
   "outputs": [],
   "source": [
    "r2LS4 = r2_score(y_test, clfLS4.predict(X_test))"
   ]
  },
  {
   "cell_type": "code",
   "execution_count": 79,
   "metadata": {
    "collapsed": true
   },
   "outputs": [],
   "source": [
    "mnLS4 = mean_squared_error(y_test, clfLS4.predict(X_test))"
   ]
  },
  {
   "cell_type": "code",
   "execution_count": 80,
   "metadata": {
    "collapsed": false
   },
   "outputs": [
    {
     "data": {
      "text/plain": [
       "[0.60956673171208742, 39.631007206921808]"
      ]
     },
     "execution_count": 80,
     "metadata": {},
     "output_type": "execute_result"
    }
   ],
   "source": [
    "list((r2LS4 ,mnLS4))"
   ]
  },
  {
   "cell_type": "code",
   "execution_count": 81,
   "metadata": {
    "collapsed": false
   },
   "outputs": [],
   "source": [
    "clfLS5 = linear_model.Lasso(alpha=2.5)"
   ]
  },
  {
   "cell_type": "code",
   "execution_count": 82,
   "metadata": {
    "collapsed": false
   },
   "outputs": [
    {
     "data": {
      "text/plain": [
       "Lasso(alpha=2.5, copy_X=True, fit_intercept=True, max_iter=1000,\n",
       "   normalize=False, positive=False, precompute=False, random_state=None,\n",
       "   selection='cyclic', tol=0.0001, warm_start=False)"
      ]
     },
     "execution_count": 82,
     "metadata": {},
     "output_type": "execute_result"
    }
   ],
   "source": [
    "clfLS5.fit(X_train,y_train)"
   ]
  },
  {
   "cell_type": "code",
   "execution_count": 83,
   "metadata": {
    "collapsed": true
   },
   "outputs": [],
   "source": [
    "r2LS5 = r2_score(y_test, clfLS5.predict(X_test))"
   ]
  },
  {
   "cell_type": "code",
   "execution_count": 84,
   "metadata": {
    "collapsed": true
   },
   "outputs": [],
   "source": [
    "mnLS5 = mean_squared_error(y_test, clfLS5.predict(X_test))"
   ]
  },
  {
   "cell_type": "code",
   "execution_count": 85,
   "metadata": {
    "collapsed": false
   },
   "outputs": [
    {
     "data": {
      "text/plain": [
       "[0.55166280478183205, 45.508556923791232]"
      ]
     },
     "execution_count": 85,
     "metadata": {},
     "output_type": "execute_result"
    }
   ],
   "source": [
    "list((r2LS5 ,mnLS5))"
   ]
  },
  {
   "cell_type": "code",
   "execution_count": null,
   "metadata": {
    "collapsed": true
   },
   "outputs": [],
   "source": []
  }
 ],
 "metadata": {
  "kernelspec": {
   "display_name": "Python 2",
   "language": "python",
   "name": "python2"
  },
  "language_info": {
   "codemirror_mode": {
    "name": "ipython",
    "version": 2
   },
   "file_extension": ".py",
   "mimetype": "text/x-python",
   "name": "python",
   "nbconvert_exporter": "python",
   "pygments_lexer": "ipython2",
   "version": "2.7.13"
  }
 },
 "nbformat": 4,
 "nbformat_minor": 2
}
